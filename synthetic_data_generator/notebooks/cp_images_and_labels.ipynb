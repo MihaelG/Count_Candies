{
 "cells": [
  {
   "cell_type": "code",
   "execution_count": 32,
   "metadata": {},
   "outputs": [],
   "source": [
    "from os import walk, path\n",
    "import random\n",
    "import shutil"
   ]
  },
  {
   "cell_type": "code",
   "execution_count": 28,
   "metadata": {},
   "outputs": [],
   "source": [
    "#Dir with generated synthetic data (composition of screenshot and logos) ready for training \n",
    "root = '/media/storage/data/datasets/logo_detection_dataset/top_500_square/'\n",
    "#Dir with generated labels in yolo acceptable format\n",
    "src_label_path = '/media/storage/data/datasets/logo_detection_dataset/top_500_square_labels/'\n",
    "\n",
    "#Dirs where train/val/test images will be copied into\n",
    "training_images_path = '/media/storage/data/datasets/logo_detection_dataset/images/training/'\n",
    "validation_images_path = '/media/storage/data/datasets/logo_detection_dataset/images/validation/'\n",
    "test_images_path = '/media/storage/data/datasets/logo_detection_dataset/images/test/'\n",
    "#Dirs where train/val/test labels will be copied into\n",
    "training_labels_path = '/media/storage/data/datasets/logo_detection_dataset/labels/training/'\n",
    "validation_labels_path = '/media/storage/data/datasets/logo_detection_dataset/labels/validation/'\n",
    "test_labels_path = '/media/storage/data/datasets/logo_detection_dataset/labels/test/'"
   ]
  },
  {
   "cell_type": "code",
   "execution_count": 34,
   "metadata": {},
   "outputs": [],
   "source": [
    "#Create dirs if they don't exist:\n",
    "if not os.path.exists(training_images_path):\n",
    "    os.mkdir(training_images_path)\n",
    "if not os.path.exists(validation_images_path):\n",
    "    os.mkdir(validation_images_path)\n",
    "if not os.path.exists(test_images_path):\n",
    "    os.mkdir(test_images_path)\n",
    "if not os.path.exists(training_labels_path):\n",
    "    os.mkdir(training_labels_path)\n",
    "if not os.path.exists(validation_labels_path):\n",
    "    os.mkdir(validation_labels_path)\n",
    "if not os.path.exists(test_labels_path):\n",
    "    os.mkdir(test_labels_path)"
   ]
  },
  {
   "cell_type": "code",
   "execution_count": 35,
   "metadata": {},
   "outputs": [],
   "source": [
    "#Create lists with random *amount* of composition/label id's\n",
    "allfiles = [f for root,dirs,files in walk(root) for f in files]\n",
    "\n",
    "val_list = []\n",
    "test_list = []\n",
    "amount = 50\n",
    "while amount>0:\n",
    "    val_list.append(allfiles.pop(0))\n",
    "    test_list.append(allfiles.pop(0))\n",
    "    amount-=1"
   ]
  },
  {
   "cell_type": "code",
   "execution_count": 36,
   "metadata": {},
   "outputs": [],
   "source": [
    "#Copy training data\n",
    "for file in allfiles:\n",
    "    src_image = root + file\n",
    "    shutil.copy(src_image, training_images_path) \n",
    "                         \n",
    "    annotation_file = file.split('.')[0] + '.txt'\n",
    "    src_label = src_label_path + annotation_file\n",
    "    shutil.copy(src_label, training_labels_path) "
   ]
  },
  {
   "cell_type": "code",
   "execution_count": 37,
   "metadata": {},
   "outputs": [],
   "source": [
    "#Copy validation data\n",
    "for file in val_list:\n",
    "    src_image = root + file\n",
    "    shutil.copy(src_image, validation_images_path) \n",
    "                         \n",
    "    annotation_file = file.split('.')[0] + '.txt'\n",
    "    src_label = src_label_path + annotation_file\n",
    "    shutil.copy(src_label, validation_labels_path) "
   ]
  },
  {
   "cell_type": "code",
   "execution_count": 38,
   "metadata": {},
   "outputs": [],
   "source": [
    "#Copy test data\n",
    "for file in test_list:\n",
    "    src_image = root + file\n",
    "    shutil.copy(src_image, test_images_path) \n",
    "                         \n",
    "    annotation_file = file.split('.')[0] + '.txt'\n",
    "    src_label = src_label_path + annotation_file\n",
    "    shutil.copy(src_label, test_labels_path) "
   ]
  }
 ],
 "metadata": {
  "kernelspec": {
   "display_name": "logo-detection",
   "language": "python",
   "name": "logo-detection"
  },
  "language_info": {
   "codemirror_mode": {
    "name": "ipython",
    "version": 3
   },
   "file_extension": ".py",
   "mimetype": "text/x-python",
   "name": "python",
   "nbconvert_exporter": "python",
   "pygments_lexer": "ipython3",
   "version": "3.10.4"
  }
 },
 "nbformat": 4,
 "nbformat_minor": 4
}
